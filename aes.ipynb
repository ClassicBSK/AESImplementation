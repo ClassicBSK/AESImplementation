{
 "cells": [
  {
   "cell_type": "markdown",
   "metadata": {},
   "source": [
    "AES in python\n",
    "=============\n",
    "\n",
    "***Here we'll be implementing AES algorithm in python***\n",
    "\n",
    "**Submitted by:** *Shivakumar B*\\\n",
    "**Roll no:** *CS22B1052*"
   ]
  },
  {
   "cell_type": "markdown",
   "metadata": {},
   "source": [
    "**We'll be taking a random plain text, a key and the expected output in hex**\\\n",
    "**We'll encode them in hex**"
   ]
  },
  {
   "cell_type": "code",
   "execution_count": 19,
   "metadata": {},
   "outputs": [],
   "source": [
    "import codecs\n",
    "plaintext=\"6bc1bee22e409f96e93d7e117393172a\"\n",
    "expected_output=\"3ad77bb40d7a3660a89ecaf32466ef97\"\n",
    "key=\"2b7e151628aed2a6abf7158809cf4f3c\"\n",
    "keys=codecs.decode(key,'hex')\n",
    "\n",
    "\n",
    "# for i in range(0,len(key),2):\n",
    "#     keys.append(int(key[i:i+2],16))\n",
    "# print(type(key))\n",
    "# print(keys)"
   ]
  },
  {
   "cell_type": "markdown",
   "metadata": {},
   "source": [
    "**RCon and SBox**\\\n",
    "*Here we have constructed the RCon and the SBox*\\\n",
    "*We have also made an SBox to SboxInv test to show how the substitution box works*"
   ]
  },
  {
   "cell_type": "code",
   "execution_count": 20,
   "metadata": {},
   "outputs": [
    {
     "name": "stdout",
     "output_type": "stream",
     "text": [
      "<class 'int'>\n",
      "82\n",
      "60\n"
     ]
    }
   ],
   "source": [
    "Rcon = ( 0x8d, 0x01, 0x02, 0x04, 0x08, 0x10, 0x20, 0x40, 0x80, 0x1b, 0x36, 0x6c, 0xd8, 0xab, 0x4d, 0x9a )\n",
    "print(type(Rcon[0]))\n",
    "Sbox = (\n",
    "        0x63, 0x7C, 0x77, 0x7B, 0xF2, 0x6B, 0x6F, 0xC5, 0x30, 0x01, 0x67, 0x2B, 0xFE, 0xD7, 0xAB, 0x76,\n",
    "        0xCA, 0x82, 0xC9, 0x7D, 0xFA, 0x59, 0x47, 0xF0, 0xAD, 0xD4, 0xA2, 0xAF, 0x9C, 0xA4, 0x72, 0xC0,\n",
    "        0xB7, 0xFD, 0x93, 0x26, 0x36, 0x3F, 0xF7, 0xCC, 0x34, 0xA5, 0xE5, 0xF1, 0x71, 0xD8, 0x31, 0x15,\n",
    "        0x04, 0xC7, 0x23, 0xC3, 0x18, 0x96, 0x05, 0x9A, 0x07, 0x12, 0x80, 0xE2, 0xEB, 0x27, 0xB2, 0x75,\n",
    "        0x09, 0x83, 0x2C, 0x1A, 0x1B, 0x6E, 0x5A, 0xA0, 0x52, 0x3B, 0xD6, 0xB3, 0x29, 0xE3, 0x2F, 0x84,\n",
    "        0x53, 0xD1, 0x00, 0xED, 0x20, 0xFC, 0xB1, 0x5B, 0x6A, 0xCB, 0xBE, 0x39, 0x4A, 0x4C, 0x58, 0xCF,\n",
    "        0xD0, 0xEF, 0xAA, 0xFB, 0x43, 0x4D, 0x33, 0x85, 0x45, 0xF9, 0x02, 0x7F, 0x50, 0x3C, 0x9F, 0xA8,\n",
    "        0x51, 0xA3, 0x40, 0x8F, 0x92, 0x9D, 0x38, 0xF5, 0xBC, 0xB6, 0xDA, 0x21, 0x10, 0xFF, 0xF3, 0xD2,\n",
    "        0xCD, 0x0C, 0x13, 0xEC, 0x5F, 0x97, 0x44, 0x17, 0xC4, 0xA7, 0x7E, 0x3D, 0x64, 0x5D, 0x19, 0x73,\n",
    "        0x60, 0x81, 0x4F, 0xDC, 0x22, 0x2A, 0x90, 0x88, 0x46, 0xEE, 0xB8, 0x14, 0xDE, 0x5E, 0x0B, 0xDB,\n",
    "        0xE0, 0x32, 0x3A, 0x0A, 0x49, 0x06, 0x24, 0x5C, 0xC2, 0xD3, 0xAC, 0x62, 0x91, 0x95, 0xE4, 0x79,\n",
    "        0xE7, 0xC8, 0x37, 0x6D, 0x8D, 0xD5, 0x4E, 0xA9, 0x6C, 0x56, 0xF4, 0xEA, 0x65, 0x7A, 0xAE, 0x08,\n",
    "        0xBA, 0x78, 0x25, 0x2E, 0x1C, 0xA6, 0xB4, 0xC6, 0xE8, 0xDD, 0x74, 0x1F, 0x4B, 0xBD, 0x8B, 0x8A,\n",
    "        0x70, 0x3E, 0xB5, 0x66, 0x48, 0x03, 0xF6, 0x0E, 0x61, 0x35, 0x57, 0xB9, 0x86, 0xC1, 0x1D, 0x9E,\n",
    "        0xE1, 0xF8, 0x98, 0x11, 0x69, 0xD9, 0x8E, 0x94, 0x9B, 0x1E, 0x87, 0xE9, 0xCE, 0x55, 0x28, 0xDF,\n",
    "        0x8C, 0xA1, 0x89, 0x0D, 0xBF, 0xE6, 0x42, 0x68, 0x41, 0x99, 0x2D, 0x0F, 0xB0, 0x54, 0xBB, 0x16\n",
    "        )\n",
    "Sbox_inv = (\n",
    "            0x52, 0x09, 0x6A, 0xD5, 0x30, 0x36, 0xA5, 0x38, 0xBF, 0x40, 0xA3, 0x9E, 0x81, 0xF3, 0xD7, 0xFB,\n",
    "            0x7C, 0xE3, 0x39, 0x82, 0x9B, 0x2F, 0xFF, 0x87, 0x34, 0x8E, 0x43, 0x44, 0xC4, 0xDE, 0xE9, 0xCB,\n",
    "            0x54, 0x7B, 0x94, 0x32, 0xA6, 0xC2, 0x23, 0x3D, 0xEE, 0x4C, 0x95, 0x0B, 0x42, 0xFA, 0xC3, 0x4E,\n",
    "            0x08, 0x2E, 0xA1, 0x66, 0x28, 0xD9, 0x24, 0xB2, 0x76, 0x5B, 0xA2, 0x49, 0x6D, 0x8B, 0xD1, 0x25,\n",
    "            0x72, 0xF8, 0xF6, 0x64, 0x86, 0x68, 0x98, 0x16, 0xD4, 0xA4, 0x5C, 0xCC, 0x5D, 0x65, 0xB6, 0x92,\n",
    "            0x6C, 0x70, 0x48, 0x50, 0xFD, 0xED, 0xB9, 0xDA, 0x5E, 0x15, 0x46, 0x57, 0xA7, 0x8D, 0x9D, 0x84,\n",
    "            0x90, 0xD8, 0xAB, 0x00, 0x8C, 0xBC, 0xD3, 0x0A, 0xF7, 0xE4, 0x58, 0x05, 0xB8, 0xB3, 0x45, 0x06,\n",
    "            0xD0, 0x2C, 0x1E, 0x8F, 0xCA, 0x3F, 0x0F, 0x02, 0xC1, 0xAF, 0xBD, 0x03, 0x01, 0x13, 0x8A, 0x6B,\n",
    "            0x3A, 0x91, 0x11, 0x41, 0x4F, 0x67, 0xDC, 0xEA, 0x97, 0xF2, 0xCF, 0xCE, 0xF0, 0xB4, 0xE6, 0x73,\n",
    "            0x96, 0xAC, 0x74, 0x22, 0xE7, 0xAD, 0x35, 0x85, 0xE2, 0xF9, 0x37, 0xE8, 0x1C, 0x75, 0xDF, 0x6E,\n",
    "            0x47, 0xF1, 0x1A, 0x71, 0x1D, 0x29, 0xC5, 0x89, 0x6F, 0xB7, 0x62, 0x0E, 0xAA, 0x18, 0xBE, 0x1B,\n",
    "            0xFC, 0x56, 0x3E, 0x4B, 0xC6, 0xD2, 0x79, 0x20, 0x9A, 0xDB, 0xC0, 0xFE, 0x78, 0xCD, 0x5A, 0xF4,\n",
    "            0x1F, 0xDD, 0xA8, 0x33, 0x88, 0x07, 0xC7, 0x31, 0xB1, 0x12, 0x10, 0x59, 0x27, 0x80, 0xEC, 0x5F,\n",
    "            0x60, 0x51, 0x7F, 0xA9, 0x19, 0xB5, 0x4A, 0x0D, 0x2D, 0xE5, 0x7A, 0x9F, 0x93, 0xC9, 0x9C, 0xEF,\n",
    "            0xA0, 0xE0, 0x3B, 0x4D, 0xAE, 0x2A, 0xF5, 0xB0, 0xC8, 0xEB, 0xBB, 0x3C, 0x83, 0x53, 0x99, 0x61,\n",
    "            0x17, 0x2B, 0x04, 0x7E, 0xBA, 0x77, 0xD6, 0x26, 0xE1, 0x69, 0x14, 0x63, 0x55, 0x21, 0x0C, 0x7D\n",
    "            )\n",
    "print(Sbox_inv[Sbox[0x52]])\n",
    "print(keys[15])"
   ]
  },
  {
   "cell_type": "markdown",
   "metadata": {},
   "source": [
    "**Key expansion**\\\n",
    "*Here we have applied the key expansion algorithm specified*"
   ]
  },
  {
   "cell_type": "code",
   "execution_count": 21,
   "metadata": {},
   "outputs": [
    {
     "name": "stdout",
     "output_type": "stream",
     "text": [
      "44\n"
     ]
    }
   ],
   "source": [
    "def xor(s1, s2):\n",
    "    return tuple(a^b for a,b in zip(s1, s2))\n",
    "\n",
    "def rot_word(word):\n",
    "    return word[1:]+word[:1]\n",
    "\n",
    "def sub_word(word):\n",
    "    # for w in word:\n",
    "        # print(type(w))\n",
    "    return (Sbox[w] for w in word)\n",
    "\n",
    "def key_expansion(keys):\n",
    "    word=[]\n",
    "    for i in range(4):\n",
    "        word.append(tuple([keys[4*i],keys[4*i+1],keys[4*i+2],keys[4*i+3]]))\n",
    "    \n",
    "    for i in range(4,44):\n",
    "        temp=word[i-1]\n",
    "        if i%4==0:\n",
    "            temp=xor(sub_word(rot_word(temp)),(Rcon[i//4],0,0,0))\n",
    "        # print(i,word[i])\n",
    "        word.append(xor(word[i-4],temp))\n",
    "\n",
    "    return word\n",
    "\n",
    "keyl=key_expansion(keys)\n",
    "print(len(keyl))"
   ]
  },
  {
   "cell_type": "markdown",
   "metadata": {},
   "source": [
    "**Multiplication table**\\\n",
    "*Here we are storing all the possible pairs for multiplication*"
   ]
  },
  {
   "cell_type": "code",
   "execution_count": 22,
   "metadata": {},
   "outputs": [],
   "source": [
    "state=map(ord,plaintext.encode().hex())\n",
    "Gmul = {}\n",
    "def gmul(a, b):\n",
    "        p = 0\n",
    "        for c in range(8):\n",
    "            if b & 1:\n",
    "                p ^= a\n",
    "            a <<= 1\n",
    "            if a & 0x100:\n",
    "                a ^= 0x11b\n",
    "            b >>= 1\n",
    "        return p\n",
    "for f in (0x02, 0x03, 0x0e, 0x0b, 0x0d, 0x09):\n",
    "    Gmul[f] = tuple(gmul(f, x) for x in range(0,0x100))\n",
    "\n",
    "state=list(state)"
   ]
  },
  {
   "cell_type": "markdown",
   "metadata": {},
   "source": [
    "**Substitute bytes**\\\n",
    "*Implementation of the first transformation function i.e., Substitute bytes*"
   ]
  },
  {
   "cell_type": "code",
   "execution_count": 23,
   "metadata": {},
   "outputs": [],
   "source": [
    "def sub_bytes(state):\n",
    "    # print(state)\n",
    "    for i,b in enumerate(state):\n",
    "        state[i]=Sbox[b]\n",
    "    return state\n",
    "\n",
    "def inv_sub_bytes(state):\n",
    "    for i,b in enumerate(state):\n",
    "        state[i]=Sbox_inv[b]\n",
    "    return state"
   ]
  },
  {
   "cell_type": "markdown",
   "metadata": {},
   "source": [
    "**Shift rows**\\\n",
    "*Implementation of the second transformation function i.e., Shift rows*"
   ]
  },
  {
   "cell_type": "code",
   "execution_count": 24,
   "metadata": {},
   "outputs": [
    {
     "name": "stdout",
     "output_type": "stream",
     "text": [
      "[195, 195, 5, 35, 5, 35, 195, 150, 5, 150, 5, 4, 5, 35, 195, 5]\n"
     ]
    }
   ],
   "source": [
    "def shift_rows(state):\n",
    "    rows = []\n",
    "    for r in range(4):\n",
    "        rows.append( state[r::4] )\n",
    "        rows[r] = rows[r][r:] + rows[r][:r]\n",
    "    state = [ r[c] for c in range(4) for r in rows ]\n",
    "    return state\n",
    "state=sub_bytes(state)\n",
    "state=shift_rows(state)\n",
    "print(state)\n",
    "\n",
    "def inv_shift_rows(state):\n",
    "    rows = []\n",
    "    for r in range(4):\n",
    "        rows.append( state[r::4] )\n",
    "        rows[r] = rows[r][4-r:] + rows[r][:4-r]\n",
    "    state = [ r[c] for c in range(4) for r in rows ]\n",
    "    return state"
   ]
  },
  {
   "cell_type": "markdown",
   "metadata": {},
   "source": [
    "**Substitute bytes**\\\n",
    "*Implementation of the third transformation function i.e., Adding the Round key*"
   ]
  },
  {
   "cell_type": "code",
   "execution_count": 25,
   "metadata": {},
   "outputs": [],
   "source": [
    "def add_round_key(state, rkey):\n",
    "    # print(len(state))\n",
    "    # print(len(rkey))\n",
    "    for i, b in enumerate(rkey):\n",
    "        # state[i] ^= b\n",
    "        for l,j in enumerate(b):\n",
    "            state[i*4+l]^=j\n",
    "    \n",
    "    return state"
   ]
  },
  {
   "cell_type": "markdown",
   "metadata": {},
   "source": [
    "**Mix Columns**\\\n",
    "*Implementation of the fourth and final transformation function i.e., Mix columns*"
   ]
  },
  {
   "cell_type": "code",
   "execution_count": 26,
   "metadata": {},
   "outputs": [],
   "source": [
    "def mix_columns(state):\n",
    "    ss = []\n",
    "    for c in range(4):\n",
    "        col = state[c*4:(c+1)*4]\n",
    "        ss.extend((\n",
    "                    Gmul[0x02][col[0]] ^ Gmul[0x03][col[1]] ^                col[2]  ^                col[3] ,\n",
    "                                    col[0]  ^ Gmul[0x02][col[1]] ^ Gmul[0x03][col[2]] ^                col[3] ,\n",
    "                                    col[0]  ^                col[1]  ^ Gmul[0x02][col[2]] ^ Gmul[0x03][col[3]],\n",
    "                    Gmul[0x03][col[0]] ^                col[1]  ^                col[2]  ^ Gmul[0x02][col[3]],\n",
    "                ))\n",
    "    return ss\n",
    "\n",
    "state=mix_columns(state)\n",
    "state\n",
    "\n",
    "def inv_mix_columns(state):\n",
    "    ss = []\n",
    "    for c in range(4):\n",
    "        col = state[c*4:(c+1)*4]\n",
    "        ss.extend((\n",
    "                    Gmul[0x0e][col[0]] ^ Gmul[0x0b][col[1]] ^ Gmul[0x0d][col[2]] ^ Gmul[0x09][col[3]],\n",
    "                    Gmul[0x09][col[0]] ^ Gmul[0x0e][col[1]] ^ Gmul[0x0b][col[2]] ^ Gmul[0x0d][col[3]],\n",
    "                    Gmul[0x0d][col[0]] ^ Gmul[0x09][col[1]] ^ Gmul[0x0e][col[2]] ^ Gmul[0x0b][col[3]],\n",
    "                    Gmul[0x0b][col[0]] ^ Gmul[0x0d][col[1]] ^ Gmul[0x09][col[2]] ^ Gmul[0x0e][col[3]],\n",
    "                ))\n",
    "    return ss\n"
   ]
  },
  {
   "cell_type": "code",
   "execution_count": null,
   "metadata": {},
   "outputs": [],
   "source": []
  },
  {
   "cell_type": "markdown",
   "metadata": {},
   "source": [
    "**Entire cipher operation**"
   ]
  },
  {
   "cell_type": "code",
   "execution_count": 27,
   "metadata": {},
   "outputs": [
    {
     "name": "stdout",
     "output_type": "stream",
     "text": [
      "after round 1: òeèÕ\u001fÒ9{Ã¹mvP\\\n",
      "after round 2: ýó|ÛK\f\u001b÷üØéJ©»ø\n",
      "after round 3: ¬Ñì¢BâÃ\u001fi\u000fz·\u0004¹\u000f\n",
      "after round 4: ¢an_D¥M9À)â\u0000·dé\n",
      "after round 5: ,Jó\u00142ÃïÉÈ©¸{%.Í§\n",
      "after round 6: ÍMÀ\u0013~³º\u0019¹9ÿ+Ó¼÷\n",
      "after round 7: âm»}@Ò!4ã·ý¢k\u0007|\n",
      "after round 8: A×ÆS}f@Ý/\u0017\u0002¬Å\u001b\n",
      "after round 9: »6Çë3MI¤ç\u0011.tñÄ\n",
      "\n",
      "final result:\n",
      "\n",
      "In hex:\n",
      "3ad77bb4d7a3660a89ecaf32466ef97\n",
      "\n",
      "In character string:\n",
      "z6`¨Êó$fï\n",
      "\n",
      "Expected result for this input:\n",
      "\n",
      "In hex:\n",
      "3ad77bb40d7a3660a89ecaf32466ef97\n",
      "\n",
      "In character string:\n",
      "z6`¨Êó$fï\n"
     ]
    }
   ],
   "source": [
    "def cipher(pt,key):\n",
    "    state=codecs.decode(pt,'hex')\n",
    "    state=list(state)\n",
    "    keys=key_expansion(key)\n",
    "    # print(keys)\n",
    "    add_round_key(state,keys[0:4])\n",
    "    for i in range(1,10):\n",
    "        state=sub_bytes(state)\n",
    "\n",
    "        state=shift_rows(state)\n",
    "\n",
    "        state=mix_columns(state)\n",
    "\n",
    "        k=keys[4*i:4*(i+1)]\n",
    "\n",
    "        state=add_round_key(state,k)\n",
    "\n",
    "        curr=\"\".join(map(chr,state))\n",
    "        print(f\"after round {i}: {curr}\")\n",
    "    \n",
    "    state=sub_bytes(state)\n",
    "    state=shift_rows(state)\n",
    "    state=add_round_key(state,keys[40:])\n",
    "\n",
    "    return \"\".join(map(chr,state))\n",
    "\n",
    "\n",
    "ct=cipher(plaintext,keys)\n",
    "\n",
    "print(f\"\\nfinal result:\")\n",
    "ctinhex=\"\"\n",
    "for i in range(len(ct)):\n",
    "    ctinhex+=f\"{format(ord(ct[i]),\"x\")}\"\n",
    "print(f\"\\nIn hex:\")\n",
    "print(ctinhex)\n",
    "print(f\"\\nIn character string:\")\n",
    "print(ct)\n",
    "\n",
    "hello=list(codecs.decode(\"3ad77bb40d7a3660a89ecaf32466ef97\",'hex'))\n",
    "hello=\"\".join(map(chr,hello))\n",
    "print(f\"\\nExpected result for this input:\")\n",
    "print(f\"\\nIn hex:\")\n",
    "print(expected_output)\n",
    "print(f\"\\nIn character string:\")\n",
    "print(hello)"
   ]
  },
  {
   "cell_type": "code",
   "execution_count": 28,
   "metadata": {},
   "outputs": [
    {
     "name": "stdout",
     "output_type": "stream",
     "text": [
      "original plain text: 6bc1bee22e409f96e93d7e117393172a\n",
      "\n",
      "cipher text: 3ad77bb4d7a3660a89ecaf32466ef97\n",
      "\n",
      "deciphered cipher text: 6bc1bee22e409f96e93d7e117393172a\n",
      "\n"
     ]
    }
   ],
   "source": [
    "def inv_cipher(ct,key):\n",
    "    state=codecs.decode(ct,'hex')\n",
    "    state=list(state)\n",
    "    keys=key_expansion(key)\n",
    "    add_round_key(state,keys[4*10:])\n",
    "\n",
    "    for i in range(9,0,-1):\n",
    "        state=inv_shift_rows(state)\n",
    "\n",
    "        state=inv_sub_bytes(state)\n",
    "\n",
    "        k=keys[i*4:(i+1)*4]\n",
    "\n",
    "        state=add_round_key(state,k)\n",
    "\n",
    "        state=inv_mix_columns(state)\n",
    "\n",
    "        curr=\"\".join(map(chr,state))\n",
    "        # print(f\"after round {i}: {curr}\")\n",
    "\n",
    "    state=inv_shift_rows(state)\n",
    "    state=inv_sub_bytes(state)\n",
    "    state=add_round_key(state,keys[0:4])\n",
    "    return \"\".join(map(chr,state))\n",
    "\n",
    "pt_dec=inv_cipher(expected_output,keys)\n",
    "pt_decinhex=\"\"\n",
    "for i in range(len(pt_dec)):\n",
    "    pt_decinhex+=f\"{format(ord(pt_dec[i]),\"x\")}\"\n",
    "\n",
    "print(f\"original plain text: {plaintext}\\n\")\n",
    "print(f\"cipher text: {ctinhex}\\n\")\n",
    "print(f\"deciphered cipher text: {pt_decinhex}\\n\")\n",
    "\n",
    "# print(ansinhex)"
   ]
  }
 ],
 "metadata": {
  "kernelspec": {
   "display_name": "Python 3",
   "language": "python",
   "name": "python3"
  },
  "language_info": {
   "codemirror_mode": {
    "name": "ipython",
    "version": 3
   },
   "file_extension": ".py",
   "mimetype": "text/x-python",
   "name": "python",
   "nbconvert_exporter": "python",
   "pygments_lexer": "ipython3",
   "version": "3.13.2"
  }
 },
 "nbformat": 4,
 "nbformat_minor": 2
}
